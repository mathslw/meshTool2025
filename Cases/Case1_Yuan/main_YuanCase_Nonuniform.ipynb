{
 "cells": [
  {
   "cell_type": "code",
   "execution_count": 1,
   "id": "41c97c1d",
   "metadata": {
    "scrolled": true
   },
   "outputs": [],
   "source": [
    "import numpy as np\n",
    "import math\n",
    "import matplotlib.pyplot as plt\n",
    "import inspect\n",
    "from MeshTool.MeshTool import *"
   ]
  },
  {
   "cell_type": "markdown",
   "id": "1c062ba5",
   "metadata": {},
   "source": [
    "### Select OpenFOAM version"
   ]
  },
  {
   "cell_type": "code",
   "execution_count": 2,
   "id": "df7cb29a",
   "metadata": {},
   "outputs": [],
   "source": [
    "of_version = 'OpenFOAM-5.x'"
   ]
  },
  {
   "cell_type": "markdown",
   "id": "1cf67a78",
   "metadata": {},
   "source": [
    "### Define the output location"
   ]
  },
  {
   "cell_type": "code",
   "execution_count": 3,
   "id": "e66fd6de",
   "metadata": {},
   "outputs": [],
   "source": [
    "path = \"output/Non-uniform Mesh\""
   ]
  },
  {
   "cell_type": "markdown",
   "id": "4b42bffe",
   "metadata": {},
   "source": [
    "### Whether to use non-uniform mesh"
   ]
  },
  {
   "cell_type": "code",
   "execution_count": 4,
   "id": "2a4602fe",
   "metadata": {},
   "outputs": [],
   "source": [
    "if_expansion = True"
   ]
  },
  {
   "cell_type": "markdown",
   "id": "7dd46bfe",
   "metadata": {},
   "source": [
    "### Whether to print 'block' and 'mesh' information in the python console"
   ]
  },
  {
   "cell_type": "code",
   "execution_count": 5,
   "id": "8d4c735a",
   "metadata": {},
   "outputs": [],
   "source": [
    "if_prBlock = True\n",
    "if_prMesh = True"
   ]
  },
  {
   "cell_type": "markdown",
   "id": "fa6ed637",
   "metadata": {},
   "source": [
    "### Whether to interactively define mesh parameters and boundary conditions"
   ]
  },
  {
   "cell_type": "code",
   "execution_count": 6,
   "id": "684bcbab",
   "metadata": {},
   "outputs": [],
   "source": [
    "if_interactionMeshParameter = False\n",
    "if_interactionDefineBoundary = False"
   ]
  },
  {
   "cell_type": "markdown",
   "id": "8cbb3b56",
   "metadata": {},
   "source": [
    "### Input characteristic geometric points"
   ]
  },
  {
   "cell_type": "code",
   "execution_count": 7,
   "id": "9354b1c4",
   "metadata": {},
   "outputs": [],
   "source": [
    "# Define the entire rectangular prism\n",
    "coordAll = np.array([\n",
    "    [0, 0, 0, 5.16, 2.43, 3.65]\n",
    "])\n",
    "\n",
    "# Define solid obatacle\n",
    "coordAbs = np.array([\n",
    "    [4.81, 0, 1.51, 5.16, 1.15, 2.04],\n",
    "    [2.78, 0, 0.85, 3.18, 1.15, 1.2],\n",
    "    [1.63, 0, 2.45, 2.03, 1.15, 2.8],\n",
    "    [2.78, 0.75, 0.15, 3.18, 1.15, 0.55],\n",
    "    [1.63, 0.75, 3.1, 2.03, 1.15, 3.5],\n",
    "    [2.58, 0.72, 0, 4.81, 0.75, 0.75],\n",
    "    [0, 0.72, 2.9, 2.23, 0.75, 3.65],\n",
    "    [4.81, 0, 0, 5.16, 1.25, 0.55],\n",
    "    [0, 0, 0, 0.95, 1.25, 0.55],\n",
    "    [3.93, 2.18, 0.15, 4.13, 2.33, 1.35],\n",
    "    [2.58, 2.18, 0.15, 2.78, 2.33, 1.35],\n",
    "    [1.35, 2.18, 0.15, 1.55, 2.33, 1.35],\n",
    "    [3.93, 2.18, 2.3, 4.13, 2.33, 3.5],\n",
    "    [2.59, 2.18, 2.3, 2.79, 2.33, 3.5],\n",
    "    [1.35, 2.18, 2.3, 1.55, 2.33, 3.5]\n",
    "])\n",
    "\n",
    "# Define faces carved on the face\n",
    "coordCarve = np.array([\n",
    "    [0, 0.94, 0.15, 0, 2.1, 3.5],\n",
    "    [2.36, 2.43, 1.61, 2.79, 2.43, 2.04]])\n",
    "\n",
    "# Combine all geometric features into a single array\n",
    "Feature_geometry = np.vstack((coordAll, coordAbs, coordCarve))"
   ]
  },
  {
   "cell_type": "markdown",
   "id": "52286d01",
   "metadata": {},
   "source": [
    "### Mesh Tool Execution"
   ]
  },
  {
   "cell_type": "code",
   "execution_count": 8,
   "id": "0613493e",
   "metadata": {
    "scrolled": true
   },
   "outputs": [
    {
     "name": "stdout",
     "output_type": "stream",
     "text": [
      "Dividing the entire space into blocks based on geometric points: \n",
      "\tCoordinates in the x-direction: [0.   0.95 1.35 1.55 1.63 2.03 2.23 2.36 2.58 2.59 2.78 2.79 3.18 3.93\n",
      " 4.13 4.81 5.16], with 17 points.\n",
      "\tCoordinates in the y-direction: [0.   0.72 0.75 0.94 1.15 1.25 2.1  2.18 2.33 2.43]，with 10 points.\n",
      "\tCoordinates in the z-direction: [0.   0.15 0.55 0.75 0.85 1.2  1.35 1.51 1.61 2.04 2.3  2.45 2.8  2.9\n",
      " 3.1  3.5  3.65]，with 17 points.\n",
      "\tThe entire computational domain is divided into: 16 * 9 * 16 blocks\n",
      "\n",
      "Created folder: output/Non-uniform Mesh\n",
      "Successfully copied 'OpenFOAM-5.x' blockMeshDict to output/Non-uniform Mesh\n"
     ]
    }
   ],
   "source": [
    "Yuan = meshTool(of_version, path, Feature_geometry, coordAbs, if_expansion, if_prBlock)"
   ]
  },
  {
   "cell_type": "code",
   "execution_count": 9,
   "id": "08af2232",
   "metadata": {
    "scrolled": true
   },
   "outputs": [],
   "source": [
    "if if_interactionMeshParameter:\n",
    "    Yuan.judgeExpansion()\n",
    "else:\n",
    "    Yuan.judgeExpansion(False,[0.03,0.2,1.5])"
   ]
  },
  {
   "cell_type": "code",
   "execution_count": 10,
   "id": "3ea5c6f6",
   "metadata": {},
   "outputs": [
    {
     "name": "stdout",
     "output_type": "stream",
     "text": [
      "Non-uniform mesh parameters are as follows:\n",
      "\tNumber of sub-block partitions in the x-direction: [2 2 2 1 2 2 2 2 1 2 1 2 2 2 2 2]\n",
      "\tNumber of sub-block partitions in the y-direction:[2 1 2 2 3 2 1 2 3]\n",
      "\tNumber of sub-block partitions in the z-direction:[2 2 2 3 2 2 2 3 2 2 2 2 3 2 2 2]\n",
      "\tCoordinates in the x-direction: [0.    0.475 0.95  1.15  1.35  1.45  1.55  1.63  1.83  2.03  2.13  2.23\n",
      " 2.295 2.36  2.47  2.58  2.59  2.685 2.78  2.79  2.985 3.18  3.555 3.93\n",
      " 4.03  4.13  4.47  4.81  4.985 5.16 ], with 30 points\n",
      "\tCoordinates in the y-direction: [0.    0.36  0.72  0.75  0.845 0.94  1.045 1.15  1.18  1.22  1.25  1.675\n",
      " 2.1   2.18  2.255 2.33  2.36  2.4   2.43 ], with 19 points\n",
      "\tCoordinates in the z-direction: [0.    0.075 0.15  0.35  0.55  0.65  0.75  0.78  0.82  0.85  1.025 1.2\n",
      " 1.275 1.35  1.43  1.51  1.54  1.58  1.61  1.825 2.04  2.17  2.3   2.375\n",
      " 2.45  2.625 2.8   2.83  2.87  2.9   3.    3.1   3.3   3.5   3.575 3.65 ], with 36 points\n",
      "\tThe entire space is divided into 29 * 18 * 35 blocks\n",
      "\tNumber of meshes in the x-direction: [6 6 4 4 3 3 3 4 4 3 3 2 2 3 3 1 3 3 1 4 4 5 5 3 3 5 5 4 4]\n",
      "\tNumber of meshes in the y-direction: [5 5 1 3 3 3 3 1 1 1 6 6 3 2 2 1 1 1]\n",
      "\tNumber of meshes in the z-direction: [2 2 4 4 3 3 1 1 1 4 4 2 2 3 3 1 1 1 4 4 3 3 2 2 4 4 1 1 1 3 3 4 4 2 2]\n",
      "\tMesh growth rate in the x_direction: [5.1428 0.1944 2.4805 0.4031 1.2261 0.8156 1.     2.4805 0.4031 1.2261\n",
      " 0.8156 1.1667 0.8571 1.4588 0.6855 1.     1.1121 0.8992 1.     2.3813\n",
      " 0.4199 4.6822 0.2136 1.2261 0.8156 4.0486 0.247  1.9919 0.502 ]\n",
      "\tMesh growth rate in the y_direction: [4.4087 0.2268 1.     1.1121 0.8992 1.3417 0.7453 1.     1.     1.\n",
      " 4.3576 0.2295 1.     1.5    0.6667 1.     1.     1.    ]\n",
      "\tMesh growth rate in the z_direction: [1.5    0.6667 2.4805 0.4031 1.2261 0.8156 1.     1.     1.     1.9919\n",
      " 0.502  1.5    0.6667 2.7777 0.36   1.     1.     1.     2.7821 0.3594\n",
      " 1.9404 0.5154 1.5    0.6667 1.9919 0.502  1.     1.     1.     1.2261\n",
      " 0.8156 2.4805 0.4031 1.5    0.6667]\n",
      "\tTotal mesh number: 103 * 48 * 89\n"
     ]
    }
   ],
   "source": [
    "Yuan.generateGrid(if_prMesh)"
   ]
  },
  {
   "cell_type": "code",
   "execution_count": 11,
   "id": "4cc4eb46",
   "metadata": {
    "scrolled": true
   },
   "outputs": [
    {
     "name": "stdout",
     "output_type": "stream",
     "text": [
      "Defined boundaries have been input into the tool.\n"
     ]
    }
   ],
   "source": [
    "if if_interactionDefineBoundary:\n",
    "    Yuan.defineBoundaryCondition()\n",
    "else:\n",
    "    bD = {}\n",
    "    Name = 'CEILING'\n",
    "    bD[Name] = {}\n",
    "    bD[Name]['type'] = 'wall'\n",
    "    bD[Name]['faceNum'] = 1\n",
    "    bD[Name]['face_1'] = np.array([0, 2.43, 0, 5.16, 2.43, 3.65])\n",
    "    bD[Name]['faceRestricted_1'] = np.array([[2.36,2.43,1.61,2.79,2.43,2.04]])\n",
    "    Name = 'INLET'\n",
    "    bD[Name] = {}\n",
    "    bD[Name]['type'] = 'patch'\n",
    "    bD[Name]['faceNum'] = 1\n",
    "    bD[Name]['face_1'] = np.array([4.81, 0, 1.51, 4.81, 1.15, 2.04])\n",
    "    bD[Name]['faceRestricted_1'] = np.array([])\n",
    "    Name = 'OUTLET'\n",
    "    bD[Name] = {}\n",
    "    bD[Name]['type'] = 'patch'\n",
    "    bD[Name]['faceNum'] = 1\n",
    "    bD[Name]['face_1'] = np.array([2.36,2.43,1.61,2.79,2.43,2.04])\n",
    "    bD[Name]['faceRestricted_1'] = np.array([])\n",
    "    Name = 'WALL'\n",
    "    bD[Name] = {}\n",
    "    bD[Name]['type'] = 'wall'\n",
    "    bD[Name]['faceNum'] = 9\n",
    "    # diffuser\n",
    "    bD[Name]['face_1'] = np.array([4.81,0,1.51,5.16,1.15,1.51])\n",
    "    bD[Name]['faceRestricted_1'] = np.array([])\n",
    "    bD[Name]['face_2'] = np.array([4.81,1.15,1.51,5.16,1.15,2.04])\n",
    "    bD[Name]['faceRestricted_2'] = np.array([])\n",
    "    bD[Name]['face_3'] = np.array([4.81,0,2.04,5.16,1.15,2.04])\n",
    "    bD[Name]['faceRestricted_3'] = np.array([])\n",
    "    # box1\n",
    "    bD[Name]['face_4'] = np.array([0,1.25,0,0.95,1.25,0.55])\n",
    "    bD[Name]['faceRestricted_4'] = np.array([])\n",
    "    bD[Name]['face_5'] = np.array([0,0,0.55,0.95,1.25,0.55])\n",
    "    bD[Name]['faceRestricted_5'] = np.array([])\n",
    "    bD[Name]['face_6'] = np.array([0.95,0,0,0.95,1.25,0.55])\n",
    "    bD[Name]['faceRestricted_6'] = np.array([])\n",
    "    # box2\n",
    "    bD[Name]['face_7'] = np.array([4.81,0,0,4.81,1.25,0.55])\n",
    "    bD[Name]['faceRestricted_7'] = np.array([[4.81,0.72,0,4.81,0.75,0.55]])\n",
    "    bD[Name]['face_8'] = np.array([4.81,0,0.55,5.16,1.25,0.55])\n",
    "    bD[Name]['faceRestricted_8'] = np.array([])\n",
    "    bD[Name]['face_9'] = np.array([4.81,1.25,0,5.16,1.25,0.55])\n",
    "    bD[Name]['faceRestricted_9'] = np.array([])\n",
    "    Name = 'TABLE'\n",
    "    bD[Name] = {}\n",
    "    bD[Name]['type'] = 'wall'\n",
    "    bD[Name]['faceNum'] = 9\n",
    "    # table1\n",
    "    bD[Name]['face_1'] = np.array([2.58,0.72,0,2.58,0.75,0.75])\n",
    "    bD[Name]['faceRestricted_1'] = np.array([])\n",
    "    bD[Name]['face_2'] = np.array([2.58,0.72,0.75,4.81,0.75,0.75])\n",
    "    bD[Name]['faceRestricted_2'] = np.array([])\n",
    "    bD[Name]['face_3'] = np.array([4.81,0.72,0.55,4.81,0.75,0.75])\n",
    "    bD[Name]['faceRestricted_3'] = np.array([])\n",
    "    bD[Name]['face_4'] = np.array([2.58,0.72,0,4.81,0.72,0.75])\n",
    "    bD[Name]['faceRestricted_4'] = np.array([])\n",
    "    bD[Name]['face_5'] = np.array([2.58,0.75,0,4.81,0.75,0.75])\n",
    "    bD[Name]['faceRestricted_5'] = np.array([[2.78,0.75,0.15,3.18,0.75,0.55]])\n",
    "    # table2\n",
    "    bD[Name]['face_6'] = np.array([0,0.72,2.9,2.23,0.75,2.9])\n",
    "    bD[Name]['faceRestricted_6'] = np.array([])\n",
    "    bD[Name]['face_7'] = np.array([2.23,0.72,2.9,2.23,0.75,3.65])\n",
    "    bD[Name]['faceRestricted_7'] = np.array([])\n",
    "    bD[Name]['face_8'] = np.array([0,0.72,2.9,2.23,0.72,3.65])\n",
    "    bD[Name]['faceRestricted_8'] = np.array([])\n",
    "    bD[Name]['face_9'] = np.array([0,0.75,2.9,2.23,0.75,3.65])\n",
    "    bD[Name]['faceRestricted_9'] = np.array([[1.63,0.75,3.1,2.03,0.75,3.5]])\n",
    "    Name = 'NORTH_WALL'\n",
    "    bD[Name] = {}\n",
    "    bD[Name]['type'] = 'wall'\n",
    "    bD[Name]['faceNum'] = 1\n",
    "    bD[Name]['face_1'] = np.array([0,0,3.65,5.16,2.43,3.65])\n",
    "    bD[Name]['faceRestricted_1'] = np.array([[0,0.72,3.65,2.23,0.75,3.65]])\n",
    "    Name = 'SOUTH_WALL'\n",
    "    bD[Name] = {}\n",
    "    bD[Name]['type'] = 'wall'\n",
    "    bD[Name]['faceNum'] = 1\n",
    "    bD[Name]['face_1'] = np.array([0,0,0,5.16,2.43,0])\n",
    "    bD[Name]['faceRestricted_1'] = np.array([[0,0,0,0.95,1.25,0],\n",
    "                                             [4.81,0,0,5.16,1.25,0],\n",
    "                                             [2.58,0.72,0,4.81,0.75,0]])\n",
    "    Name = 'WEST_WALL'\n",
    "    bD[Name] = {}\n",
    "    bD[Name]['type'] = 'wall'\n",
    "    bD[Name]['faceNum'] = 1\n",
    "    bD[Name]['face_1'] = np.array([5.16,0,0,5.16,2.43,3.65])\n",
    "    bD[Name]['faceRestricted_1'] = np.array([[5.16,0,0,5.16,1.25,0.55],\n",
    "                                             [5.16,0,1.51,5.16,1.15,2.04]])\n",
    "    Name = 'EAST_WALL'\n",
    "    bD[Name] = {}\n",
    "    bD[Name]['type'] = 'wall'\n",
    "    bD[Name]['faceNum'] = 1\n",
    "    bD[Name]['face_1'] = np.array([0,0,0,0,2.43,3.65])\n",
    "    bD[Name]['faceRestricted_1'] = np.array([[0,0,0,0,1.25,0.55],\n",
    "                                             [0,1.25,0.15,0,2.1,0.55],\n",
    "                                             [0,0.94,0.55,0,2.1,3.5],\n",
    "                                             [0,0.72,2.9,0,0.75,3.65]])\n",
    "    Name = 'WINDOW'\n",
    "    bD[Name] = {}\n",
    "    bD[Name]['type'] = 'wall'\n",
    "    bD[Name]['faceNum'] = 1\n",
    "    bD[Name]['face_1'] = np.array([0,0.94,0.15,0,2.1,3.5])\n",
    "    bD[Name]['faceRestricted_1'] = np.array([[0,0.94,0.15,0,1.25,0.55]])\n",
    "    Name = 'FLOOR'\n",
    "    bD[Name] = {}\n",
    "    bD[Name]['type'] = 'wall'\n",
    "    bD[Name]['faceNum'] = 1\n",
    "    bD[Name]['face_1'] = np.array([0,0,0,5.16,0,3.65])\n",
    "    bD[Name]['faceRestricted_1'] = np.array([[4.81,0,0,5.16,0,0.55],\n",
    "                                             [0,0,0,0.95,0,0.55],\n",
    "                                             [2.78,0,0.85,3.18,0,1.2],\n",
    "                                             [1.63,0,2.45,2.03,0,2.8],\n",
    "                                             [4.81,0,1.51,5.16,0,2.04]])\n",
    "    Name = 'COMPUTER1'\n",
    "    bD[Name] = {}\n",
    "    bD[Name]['type'] = 'wall'\n",
    "    bD[Name]['faceNum'] = 5\n",
    "    bD[Name]['face_1'] = np.array([2.78,0.75,0.15,2.78,1.15,0.55])\n",
    "    bD[Name]['faceRestricted_1'] = np.array([])\n",
    "    bD[Name]['face_2'] = np.array([2.78,0.75,0.15,3.18,1.15,0.15])\n",
    "    bD[Name]['faceRestricted_2'] = np.array([])\n",
    "    bD[Name]['face_3'] = np.array([3.18,0.75,0.15,3.18,1.15,0.55])\n",
    "    bD[Name]['faceRestricted_3'] = np.array([])\n",
    "    bD[Name]['face_4'] = np.array([2.78,1.15,0.15,3.18,1.15,0.55])\n",
    "    bD[Name]['faceRestricted_4'] = np.array([])\n",
    "    bD[Name]['face_5'] = np.array([2.78,0.75,0.55,3.18,1.15,0.55])\n",
    "    bD[Name]['faceRestricted_5'] = np.array([])\n",
    "    Name = 'COMPUTER2'\n",
    "    bD[Name] = {}\n",
    "    bD[Name]['type'] = 'wall'\n",
    "    bD[Name]['faceNum'] = 5\n",
    "    bD[Name]['face_1'] = np.array([1.63,0.75,3.1,1.63,1.15,3.5])\n",
    "    bD[Name]['faceRestricted_1'] = np.array([])\n",
    "    bD[Name]['face_2'] = np.array([1.63,0.75,3.1,2.03,1.15,3.1])\n",
    "    bD[Name]['faceRestricted_2'] = np.array([])\n",
    "    bD[Name]['face_3'] = np.array([2.03,0.75,3.1,2.03,1.15,3.5])\n",
    "    bD[Name]['faceRestricted_3'] = np.array([])\n",
    "    bD[Name]['face_4'] = np.array([1.63,0.75,3.5,2.03,1.15,3.5])\n",
    "    bD[Name]['faceRestricted_4'] = np.array([])\n",
    "    bD[Name]['face_5'] = np.array([1.63,1.15,3.1,2.03,1.15,3.5])\n",
    "    bD[Name]['faceRestricted_5'] = np.array([])\n",
    "    Name = 'OCCUPANT1'\n",
    "    bD[Name] = {}\n",
    "    bD[Name]['type'] = 'wall'\n",
    "    bD[Name]['faceNum'] = 5\n",
    "    bD[Name]['face_1'] = np.array([2.78,0,0.85,2.78,1.15,1.2])\n",
    "    bD[Name]['faceRestricted_1'] = np.array([])\n",
    "    bD[Name]['face_2'] = np.array([2.78,0,0.85,3.18,1.15,0.85])\n",
    "    bD[Name]['faceRestricted_2'] = np.array([])\n",
    "    bD[Name]['face_3'] = np.array([3.18,0,0.85,3.18,1.15,1.2])\n",
    "    bD[Name]['faceRestricted_3'] = np.array([])\n",
    "    bD[Name]['face_4'] = np.array([2.78,0,1.2,3.18,1.15,1.2])\n",
    "    bD[Name]['faceRestricted_4'] = np.array([])\n",
    "    bD[Name]['face_5'] = np.array([2.78,1.15,0.85,3.18,1.15,1.2])\n",
    "    bD[Name]['faceRestricted_5'] = np.array([])\n",
    "    Name = 'OCCUPANT2'\n",
    "    bD[Name] = {}\n",
    "    bD[Name]['type'] = 'wall'\n",
    "    bD[Name]['faceNum'] = 5\n",
    "    bD[Name]['face_1'] = np.array([1.63,0,2.45,1.63,1.15,2.8])\n",
    "    bD[Name]['faceRestricted_1'] = np.array([])\n",
    "    bD[Name]['face_2'] = np.array([1.63,0,2.45,2.03,1.15,2.45])\n",
    "    bD[Name]['faceRestricted_2'] = np.array([])\n",
    "    bD[Name]['face_3'] = np.array([2.03,0,2.45,2.03,1.15,2.8])\n",
    "    bD[Name]['faceRestricted_3'] = np.array([])\n",
    "    bD[Name]['face_4'] = np.array([1.63,0,2.8,2.03,1.15,2.8])\n",
    "    bD[Name]['faceRestricted_4'] = np.array([])\n",
    "    bD[Name]['face_5'] = np.array([1.63,1.15,2.45,2.03,1.15,2.8])\n",
    "    bD[Name]['faceRestricted_5'] = np.array([])\n",
    "    Name = 'LAMP1'\n",
    "    bD[Name] = {}\n",
    "    bD[Name]['type'] = 'wall'\n",
    "    bD[Name]['faceNum'] = 6\n",
    "    bD[Name]['face_1'] = np.array([3.93,2.18,0.15,3.93,2.33,1.35])\n",
    "    bD[Name]['faceRestricted_1'] = np.array([])\n",
    "    bD[Name]['face_2'] = np.array([3.93,2.18,0.15,4.13,2.33,0.15])\n",
    "    bD[Name]['faceRestricted_2'] = np.array([])\n",
    "    bD[Name]['face_3'] = np.array([4.13,2.18,0.15,4.13,2.33,1.35])\n",
    "    bD[Name]['faceRestricted_3'] = np.array([])\n",
    "    bD[Name]['face_4'] = np.array([3.93,2.18,1.35,4.13,2.33,1.35])\n",
    "    bD[Name]['faceRestricted_4'] = np.array([])\n",
    "    bD[Name]['face_5'] = np.array([3.93,2.18,0.15,4.13,2.18,1.35])\n",
    "    bD[Name]['faceRestricted_5'] = np.array([])\n",
    "    bD[Name]['face_6'] = np.array([3.93,2.33,0.15,4.13,2.33,1.35])\n",
    "    bD[Name]['faceRestricted_6'] = np.array([])\n",
    "    Name = 'LAMP2'\n",
    "    bD[Name] = {}\n",
    "    bD[Name]['type'] = 'wall'\n",
    "    bD[Name]['faceNum'] = 6\n",
    "    bD[Name]['face_1'] = np.array([2.58,2.18,0.15,2.58,2.33,1.35])\n",
    "    bD[Name]['faceRestricted_1'] = np.array([])\n",
    "    bD[Name]['face_2'] = np.array([2.58,2.18,0.15,2.78,2.33,0.15])\n",
    "    bD[Name]['faceRestricted_2'] = np.array([])\n",
    "    bD[Name]['face_3'] = np.array([2.78,2.18,0.15,2.78,2.33,1.35])\n",
    "    bD[Name]['faceRestricted_3'] = np.array([])\n",
    "    bD[Name]['face_4'] = np.array([2.58,2.18,1.35,2.78,2.33,1.35])\n",
    "    bD[Name]['faceRestricted_4'] = np.array([])\n",
    "    bD[Name]['face_5'] = np.array([2.58,2.18,0.15,2.78,2.18,1.35])\n",
    "    bD[Name]['faceRestricted_5'] = np.array([])\n",
    "    bD[Name]['face_6'] = np.array([2.58,2.33,0.15,2.78,2.33,1.35])\n",
    "    bD[Name]['faceRestricted_6'] = np.array([])\n",
    "    Name = 'LAMP3'\n",
    "    bD[Name] = {}\n",
    "    bD[Name]['type'] = 'wall'\n",
    "    bD[Name]['faceNum'] = 6\n",
    "    bD[Name]['face_1'] = np.array([1.35,2.18,0.15,1.35,2.33,1.35])\n",
    "    bD[Name]['faceRestricted_1'] = np.array([])\n",
    "    bD[Name]['face_2'] = np.array([1.35,2.18,0.15,1.55,2.33,0.15])\n",
    "    bD[Name]['faceRestricted_2'] = np.array([])\n",
    "    bD[Name]['face_3'] = np.array([1.55,2.18,0.15,1.55,2.33,1.35])\n",
    "    bD[Name]['faceRestricted_3'] = np.array([])\n",
    "    bD[Name]['face_4'] = np.array([1.35,2.18,1.35,1.55,2.33,1.35])\n",
    "    bD[Name]['faceRestricted_4'] = np.array([])\n",
    "    bD[Name]['face_5'] = np.array([1.35,2.18,0.15,1.55,2.18,1.35])\n",
    "    bD[Name]['faceRestricted_5'] = np.array([])\n",
    "    bD[Name]['face_6'] = np.array([1.35,2.33,0.15,1.55,2.33,1.35])\n",
    "    bD[Name]['faceRestricted_6'] = np.array([])\n",
    "    Name = 'LAMP4'\n",
    "    bD[Name] = {}\n",
    "    bD[Name]['type'] = 'wall'\n",
    "    bD[Name]['faceNum'] = 6\n",
    "    bD[Name]['face_1'] = np.array([3.93,2.18,2.3,3.93,2.33,3.5])\n",
    "    bD[Name]['faceRestricted_1'] = np.array([])\n",
    "    bD[Name]['face_2'] = np.array([3.93,2.18,2.3,4.13,2.33,2.3])\n",
    "    bD[Name]['faceRestricted_2'] = np.array([])\n",
    "    bD[Name]['face_3'] = np.array([4.13,2.18,2.3,4.13,2.33,3.5])\n",
    "    bD[Name]['faceRestricted_3'] = np.array([])\n",
    "    bD[Name]['face_4'] = np.array([3.93,2.18,3.5,4.13,2.33,3.5])\n",
    "    bD[Name]['faceRestricted_4'] = np.array([])\n",
    "    bD[Name]['face_5'] = np.array([3.93,2.18,2.3,4.13,2.18,3.5])\n",
    "    bD[Name]['faceRestricted_5'] = np.array([])\n",
    "    bD[Name]['face_6'] = np.array([3.93,2.33,2.3,4.13,2.33,3.5])\n",
    "    bD[Name]['faceRestricted_6'] = np.array([])\n",
    "    Name = 'LAMP5'\n",
    "    bD[Name] = {}\n",
    "    bD[Name]['type'] = 'wall'\n",
    "    bD[Name]['faceNum'] = 6\n",
    "    bD[Name]['face_1'] = np.array([2.59,2.18,2.3,2.59,2.33,3.5])\n",
    "    bD[Name]['faceRestricted_1'] = np.array([])\n",
    "    bD[Name]['face_2'] = np.array([2.59,2.18,2.3,2.79,2.33,2.3])\n",
    "    bD[Name]['faceRestricted_2'] = np.array([])\n",
    "    bD[Name]['face_3'] = np.array([2.79,2.18,2.3,2.79,2.33,3.5])\n",
    "    bD[Name]['faceRestricted_3'] = np.array([])\n",
    "    bD[Name]['face_4'] = np.array([2.59,2.18,3.5,2.79,2.33,3.5])\n",
    "    bD[Name]['faceRestricted_4'] = np.array([])\n",
    "    bD[Name]['face_5'] = np.array([2.59,2.18,2.3,2.79,2.18,3.5])\n",
    "    bD[Name]['faceRestricted_5'] = np.array([])\n",
    "    bD[Name]['face_6'] = np.array([2.59,2.33,2.3,2.79,2.33,3.5])\n",
    "    bD[Name]['faceRestricted_6'] = np.array([])\n",
    "    Name = 'LAMP6'\n",
    "    bD[Name] = {}\n",
    "    bD[Name]['type'] = 'wall'\n",
    "    bD[Name]['faceNum'] = 6\n",
    "    bD[Name]['face_1'] = np.array([1.35,2.18,2.3,1.35,2.33,3.5])\n",
    "    bD[Name]['faceRestricted_1'] = np.array([])\n",
    "    bD[Name]['face_2'] = np.array([1.35,2.18,2.3,1.55,2.33,2.3])\n",
    "    bD[Name]['faceRestricted_2'] = np.array([])\n",
    "    bD[Name]['face_3'] = np.array([1.35,2.18,3.5,1.55,2.33,3.5])\n",
    "    bD[Name]['faceRestricted_3'] = np.array([])\n",
    "    bD[Name]['face_4'] = np.array([1.55,2.18,2.3,1.55,2.33,3.5])\n",
    "    bD[Name]['faceRestricted_4'] = np.array([])\n",
    "    bD[Name]['face_5'] = np.array([1.35,2.18,2.3,1.55,2.18,3.5])\n",
    "    bD[Name]['faceRestricted_5'] = np.array([])\n",
    "    bD[Name]['face_6'] = np.array([1.35,2.33,2.3,1.55,2.33,3.5])\n",
    "    bD[Name]['faceRestricted_6'] = np.array([])\n",
    "    \n",
    "    # Input the bD dictionary into the tool class\n",
    "    Yuan.defineBoundaryCondition(if_interactionDefineBoundary, bD) # Non-interactive use"
   ]
  },
  {
   "cell_type": "code",
   "execution_count": 12,
   "id": "e56bc512",
   "metadata": {},
   "outputs": [],
   "source": [
    "# Yuan.delBoundaryCondition('outlet') # Remove the boundary partitioning named 'outlet'\n",
    "# Yuan.prBoundaryCondition() # Print all boundaries which have been partitioned\n",
    "# Yuan.checkBoundaryCondition(if_end=False) # Check boundary partitioning without requiring all to be partitioned"
   ]
  },
  {
   "cell_type": "markdown",
   "id": "67ecd2b5",
   "metadata": {},
   "source": [
    "### Check boundary partitioning in the end"
   ]
  },
  {
   "cell_type": "code",
   "execution_count": 13,
   "id": "ec96a0f8",
   "metadata": {},
   "outputs": [
    {
     "name": "stdout",
     "output_type": "stream",
     "text": [
      "Checking boundaries in the yz-plane: \n",
      "Boundary partitioning is correct\n",
      "Checking boundaries in the xz-plane: \n",
      "Boundary partitioning is correct\n",
      "Checking boundaries in the xy-plane: \n",
      "Boundary partitioning is correct\n"
     ]
    }
   ],
   "source": [
    "Yuan.checkBoundaryCondition(if_end=True)"
   ]
  },
  {
   "cell_type": "markdown",
   "id": "b62b3339",
   "metadata": {},
   "source": [
    "### Output to the specified directory"
   ]
  },
  {
   "cell_type": "code",
   "execution_count": 14,
   "id": "09847d8d",
   "metadata": {},
   "outputs": [
    {
     "name": "stdout",
     "output_type": "stream",
     "text": [
      "Point indices successfully imported to --output/Non-uniform Mesh/blockMeshDict--folder\n",
      "Point coordinates successfully imported to --output/Non-uniform Mesh/blockMeshDict--folder\n",
      "Blocks and corresponding parameters successfully imported to --output/Non-uniform Mesh/blockMeshDict--folder\n",
      "Boundary partitioning has been output to --output/Non-uniform Mesh/blockMeshDict-- folder\n"
     ]
    }
   ],
   "source": [
    "Yuan.outputGrid()\n",
    "Yuan.outputBoundaryCondition()"
   ]
  },
  {
   "cell_type": "code",
   "execution_count": null,
   "id": "286e3ff7",
   "metadata": {},
   "outputs": [],
   "source": []
  },
  {
   "cell_type": "code",
   "execution_count": null,
   "id": "10e78ecf",
   "metadata": {},
   "outputs": [],
   "source": []
  }
 ],
 "metadata": {
  "kernelspec": {
   "display_name": "SRGAN",
   "language": "python",
   "name": "srgan"
  },
  "language_info": {
   "codemirror_mode": {
    "name": "ipython",
    "version": 3
   },
   "file_extension": ".py",
   "mimetype": "text/x-python",
   "name": "python",
   "nbconvert_exporter": "python",
   "pygments_lexer": "ipython3",
   "version": "3.7.16"
  }
 },
 "nbformat": 4,
 "nbformat_minor": 5
}
